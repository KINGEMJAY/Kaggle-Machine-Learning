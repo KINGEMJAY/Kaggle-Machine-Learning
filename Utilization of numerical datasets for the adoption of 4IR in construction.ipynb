{
  "cells": [
    {
      "cell_type": "markdown",
      "source": [
        "A.I construction project planning software  model built with google colaboratory"
      ],
      "metadata": {
        "id": "tf6rlSB2RF1R"
      }
    },
    {
      "cell_type": "code",
      "source": [
        "import pandas as pd\n",
        "from sklearn.model_selection import train_test_split\n",
        "from sklearn.ensemble import RandomForestRegressor\n",
        "from sklearn.metrics import mean_squared_error, mean_absolute_error\n",
        "data = pd.DataFrame({'Task': [1, 2, 3, 4, 5, 6],\n",
        "'Description': ['Face Recognition','Computer Vision','Automated Reports','Robotic Automation','AI Assisted Planning','Chatbots'],'Dataset1':[60, 50, 70, 90, 80, 70],\n",
        "           'Complexity': [60, 50, 70, 90, 80, 70],\n",
        "           'Risk': [20, 30, 40, 60, 30, 20],\n",
        "           'Feasibility': [50, 40, 80, 70, 50, 60],\n",
        "           'Productivity': [60, 50, 75, 80, 70, 55]\n",
        "                     })\n"
      ],
      "metadata": {
        "id": "LJVPKmOkSKbn"
      },
      "execution_count": null,
      "outputs": []
    },
    {
      "cell_type": "code",
      "source": [
        "features = data[['Complexity', 'Risk', 'Feasibility']]"
      ],
      "metadata": {
        "id": "vfRGUU57gzs-"
      },
      "execution_count": null,
      "outputs": []
    },
    {
      "cell_type": "code",
      "source": [
        "target = data['Productivity']\n"
      ],
      "metadata": {
        "id": "iu88LWt_hDZk"
      },
      "execution_count": null,
      "outputs": []
    },
    {
      "cell_type": "code",
      "source": [
        "new_project = pd.DataFrame({'Complexity': [85], 'Risk': [25], 'Feasibility': [70]\n",
        "                            })\n"
      ],
      "metadata": {
        "id": "vn9p0T7zjFUD"
      },
      "execution_count": null,
      "outputs": []
    },
    {
      "cell_type": "markdown",
      "source": [
        "Utilization of numerical datasets for adoption of 4IR in construction using gooogle colaboratory"
      ],
      "metadata": {
        "id": "NgiK03Mo-wWE"
      }
    },
    {
      "cell_type": "code",
      "source": [
        "import pandas as pd\n",
        "import numpy as np\n",
        "import matplotlib.pyplot as plt"
      ],
      "metadata": {
        "id": "cYDii5Vh_N4h"
      },
      "execution_count": null,
      "outputs": []
    },
    {
      "cell_type": "markdown",
      "source": [
        "Load and Process the datasets"
      ],
      "metadata": {
        "id": "9f0PfQF0_irs"
      }
    },
    {
      "cell_type": "code",
      "source": [
        "fieldwire = np.array([[1, 2, 3,],[4, 5, 6],[7, 8, 9]])"
      ],
      "metadata": {
        "id": "xHKlPDb5_lik"
      },
      "execution_count": 49,
      "outputs": []
    },
    {
      "cell_type": "code",
      "source": [
        "touchplan = np.array([[10, 11, 12], [13, 14, 15],[16, 17, 18]])"
      ],
      "metadata": {
        "id": "JeaiqCzYAKEE"
      },
      "execution_count": 50,
      "outputs": []
    },
    {
      "cell_type": "code",
      "source": [
        "procore = np.array([[19, 20, 21],[22, 23, 24],[25, 26, 27]])"
      ],
      "metadata": {
        "id": "ApHbEFkbAlcP"
      },
      "execution_count": 51,
      "outputs": []
    },
    {
      "cell_type": "code",
      "source": [
        "packet_tracer = np.array([[28, 29, 30], [31, 32, 33],[34, 35, 36]])"
      ],
      "metadata": {
        "id": "Z59vH5qlBCTo"
      },
      "execution_count": 52,
      "outputs": []
    },
    {
      "cell_type": "code",
      "source": [
        "pvsyst = np.array([[37, 38, 39], [40, 41, 42], [43, 44, 45]])"
      ],
      "metadata": {
        "id": "Z3a7VqQ4BXOL"
      },
      "execution_count": 53,
      "outputs": []
    },
    {
      "cell_type": "markdown",
      "source": [
        "Perform data analysis and visualization"
      ],
      "metadata": {
        "id": "_QS9mtJNBxRs"
      }
    },
    {
      "cell_type": "code",
      "source": [
        "fieldwire_mean = np.mean(fieldwire)"
      ],
      "metadata": {
        "id": "X98HcJ5tB6uc"
      },
      "execution_count": 69,
      "outputs": []
    },
    {
      "cell_type": "code",
      "source": [
        "fieldwire_max = np.max(fieldwire)"
      ],
      "metadata": {
        "id": "8LLEL3TuCIcZ"
      },
      "execution_count": 70,
      "outputs": []
    },
    {
      "cell_type": "code",
      "source": [
        "fieldwire_min = np.min(fieldwire)"
      ],
      "metadata": {
        "id": "5I0mgBpoCPeC"
      },
      "execution_count": 71,
      "outputs": []
    },
    {
      "cell_type": "code",
      "source": [
        "touchplan_mean = np.mean(touchplan)"
      ],
      "metadata": {
        "id": "P9tetUnDCaUA"
      },
      "execution_count": 72,
      "outputs": []
    },
    {
      "cell_type": "code",
      "source": [
        "touchplan_max = np.max(touchplan)"
      ],
      "metadata": {
        "id": "lg9OzZYnDPtJ"
      },
      "execution_count": 73,
      "outputs": []
    },
    {
      "cell_type": "code",
      "source": [
        "touchplan_min = np.min(touchplan)"
      ],
      "metadata": {
        "id": "lraM-BemDcPv"
      },
      "execution_count": 74,
      "outputs": []
    },
    {
      "cell_type": "code",
      "source": [
        "procore_mean = np.mean(procore)"
      ],
      "metadata": {
        "id": "_ehiDbA_DnvL"
      },
      "execution_count": 75,
      "outputs": []
    },
    {
      "cell_type": "code",
      "source": [
        "procore_max = np.max(procore)"
      ],
      "metadata": {
        "id": "T3jCr0hYDvUS"
      },
      "execution_count": 76,
      "outputs": []
    },
    {
      "cell_type": "code",
      "source": [
        "procore_min = np.min(procore)"
      ],
      "metadata": {
        "id": "EuDemyeRKenj"
      },
      "execution_count": 77,
      "outputs": []
    },
    {
      "cell_type": "code",
      "source": [
        "packet_tracer_mean = np.mean(packet_tracer)"
      ],
      "metadata": {
        "id": "kB8HNt0DKo83"
      },
      "execution_count": 79,
      "outputs": []
    },
    {
      "cell_type": "code",
      "source": [
        "packet_tracer_max = np.max(packet_tracer)"
      ],
      "metadata": {
        "id": "kNz2_MMAK0iB"
      },
      "execution_count": 80,
      "outputs": []
    },
    {
      "cell_type": "code",
      "source": [
        "packet_tracer_min = np.min(packet_tracer)"
      ],
      "metadata": {
        "id": "JFhdztgnK869"
      },
      "execution_count": 81,
      "outputs": []
    },
    {
      "cell_type": "code",
      "source": [
        "pvsyst_mean = np.mean(pvsyst)\n",
        "pvsyst_max = np.max(pvsyst)\n",
        "pvsyst_min = np.min(pvsyst)"
      ],
      "metadata": {
        "id": "CNPLWxFTLJ-2"
      },
      "execution_count": 82,
      "outputs": []
    },
    {
      "cell_type": "markdown",
      "source": [
        "Visualize the data"
      ],
      "metadata": {
        "id": "amKbqegVLndK"
      }
    },
    {
      "cell_type": "code",
      "source": [
        "datasets = ['fieldwire', 'touchplan', 'procore', 'packet_tracer', 'pvsyst']\n"
      ],
      "metadata": {
        "id": "TK9tTegpMTAo"
      },
      "execution_count": 83,
      "outputs": []
    },
    {
      "cell_type": "code",
      "source": [
        "mean = [fieldwire_mean, touchplan_mean, procore_mean, packet_tracer_mean, pvsyst_mean ]"
      ],
      "metadata": {
        "id": "PZ0QyPSRQ7Rr"
      },
      "execution_count": 84,
      "outputs": []
    },
    {
      "cell_type": "code",
      "source": [
        "max_vals = (fieldwire_max, touchplan_max, procore_max, packet_tracer_max, pvsyst_max)"
      ],
      "metadata": {
        "id": "WLV0ZizGRc8R"
      },
      "execution_count": 85,
      "outputs": []
    },
    {
      "cell_type": "code",
      "source": [
        "min_vals = [fieldwire_min, touchplan_min, procore_min, packet_tracer_min, pvsyst_min]"
      ],
      "metadata": {
        "id": "jsx4yDDlRuoN"
      },
      "execution_count": 86,
      "outputs": []
    },
    {
      "cell_type": "code",
      "source": [
        "df = pd.DataFrame({'Dataset': datasets, 'Mean': mean, 'Max': max_vals, 'Min' : min_vals})"
      ],
      "metadata": {
        "id": "p8TLJ4KMSF4j"
      },
      "execution_count": 87,
      "outputs": []
    },
    {
      "cell_type": "code",
      "source": [
        "plt.figure(figsize=(10, 6))"
      ],
      "metadata": {
        "colab": {
          "base_uri": "https://localhost:8080/",
          "height": 52
        },
        "id": "GLXRZ4YfUXqi",
        "outputId": "947948fb-f6fc-4ed2-e387-15146d7d91d9"
      },
      "execution_count": 94,
      "outputs": [
        {
          "output_type": "execute_result",
          "data": {
            "text/plain": [
              "<Figure size 1000x600 with 0 Axes>"
            ]
          },
          "metadata": {},
          "execution_count": 94
        },
        {
          "output_type": "display_data",
          "data": {
            "text/plain": [
              "<Figure size 1000x600 with 0 Axes>"
            ]
          },
          "metadata": {}
        }
      ]
    },
    {
      "cell_type": "code",
      "source": [
        "plt.bar(df['Dataset'], df['Mean'], label='Mean')"
      ],
      "metadata": {
        "colab": {
          "base_uri": "https://localhost:8080/",
          "height": 447
        },
        "id": "Ezja8Y-tUf3x",
        "outputId": "5522f9dd-6070-4ef9-bfbc-6ff52f05db03"
      },
      "execution_count": 95,
      "outputs": [
        {
          "output_type": "execute_result",
          "data": {
            "text/plain": [
              "<BarContainer object of 5 artists>"
            ]
          },
          "metadata": {},
          "execution_count": 95
        },
        {
          "output_type": "display_data",
          "data": {
            "text/plain": [
              "<Figure size 640x480 with 1 Axes>"
            ],
            "image/png": "[encoded data removed]"
          },
          "metadata": {}
        }
      ]
    },
    {
      "cell_type": "code",
      "source": [
        "plt.bar(df['Dataset'], df['Max'], label='Max')"
      ],
      "metadata": {
        "colab": {
          "base_uri": "https://localhost:8080/",
          "height": 447
        },
        "id": "Kcwg22DAYk7O",
        "outputId": "12605c5d-8b44-403d-f468-b434d095dfcd"
      },
      "execution_count": 96,
      "outputs": [
        {
          "output_type": "execute_result",
          "data": {
            "text/plain": [
              "<BarContainer object of 5 artists>"
            ]
          },
          "metadata": {},
          "execution_count": 96
        },
        {
          "output_type": "display_data",
          "data": {
            "text/plain": [
              "<Figure size 640x480 with 1 Axes>"
            ],
            "image/png": "[encoded data removed]"
          },
          "metadata": {}
        }
      ]
    },
    {
      "cell_type": "code",
      "source": [
        "plt.bar(df['Min'], df['Min'], label='Min')"
      ],
      "metadata": {
        "colab": {
          "base_uri": "https://localhost:8080/",
          "height": 447
        },
        "id": "THj2sDfnY9YE",
        "outputId": "c2979d13-3dea-4c9e-f01c-f2c48ca692ae"
      },
      "execution_count": 97,
      "outputs": [
        {
          "output_type": "execute_result",
          "data": {
            "text/plain": [
              "<BarContainer object of 5 artists>"
            ]
          },
          "metadata": {},
          "execution_count": 97
        },
        {
          "output_type": "display_data",
          "data": {
            "text/plain": [
              "<Figure size 640x480 with 1 Axes>"
            ],
            "image/png": "[encoded data removed]"
          },
          "metadata": {}
        }
      ]
    },
    {
      "cell_type": "code",
      "source": [
        "import matplotlib.pyplot as plt\n",
        "x = [5, 10, 15, 20, 25, 30, 35]\n",
        "y = [10, 15, 20, 25, 30, 35, 40]\n",
        "plt.xlabel('Datasets')\n",
        "plt.ylabel('Values')\n",
        "plt.plot(x, y)\n",
        "plt.title('Analysis of Datasets')\n",
        "plt.legend()\n",
        "plt.show()"
      ],
      "metadata": {
        "colab": {
          "base_uri": "https://localhost:8080/",
          "height": 509
        },
        "id": "Eu3mAjuHZh3u",
        "outputId": "79aed3bc-efe9-4947-e750-63613c353eeb"
      },
      "execution_count": 103,
      "outputs": [
        {
          "output_type": "stream",
          "name": "stderr",
          "text": [
            "WARNING:matplotlib.legend:No artists with labels found to put in legend.  Note that artists whose label start with an underscore are ignored when legend() is called with no argument.\n"
          ]
        },
        {
          "output_type": "display_data",
          "data": {
            "text/plain": [
              "<Figure size 640x480 with 1 Axes>"
            ],
            "image/png": "[encoded data removed]"
          },
          "metadata": {}
        }
      ]
    }
  ],
  "metadata": {
    "colab": {
      "provenance": []
    },
    "kernelspec": {
      "display_name": "Python 3",
      "name": "python3"
    }
  },
  "nbformat": 4,
  "nbformat_minor": 0
}