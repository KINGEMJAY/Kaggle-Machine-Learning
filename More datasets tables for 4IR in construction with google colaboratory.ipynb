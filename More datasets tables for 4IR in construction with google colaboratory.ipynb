{
  "cells": [
    {
      "cell_type": "markdown",
      "source": [
        "Table 9: Actual Cost and Predicted Cost Estimation"
      ],
      "metadata": {
        "id": "lx8uX7QXcuYd"
      }
    },
    {
      "cell_type": "code",
      "source": [
        "import pandas as pd\n",
        "project_cost_data = {'Project ID': ['1','2','3','4','5','6'],\n",
        "                     'Actual Cost': [500000, 750000, 1000000, 650000, 900000, 935000],\n",
        "                     'Predicted Cost' :[510000, 720000, 980000, 670000, 910000, 1000000]\n",
        "                     }\n",
        "df_project_cost = pd.DataFrame(project_cost_data)\n",
        "print(\"Table 9: Actutal Cost and  Predicted Cost Estimation\")\n",
        "print(df_project_cost)\n",
        "print()\n",
        "\n",
        "\n"
      ],
      "metadata": {
        "colab": {
          "base_uri": "https://localhost:8080/"
        },
        "id": "fPCJgbMvc8wT",
        "outputId": "cd1430df-7b28-4159-dc78-51e7dd65d2ca"
      },
      "execution_count": 8,
      "outputs": [
        {
          "output_type": "stream",
          "name": "stdout",
          "text": [
            "Table 9: Actutal Cost and  Predicted Cost Estimation\n",
            "  Project ID  Actual Cost  Predicted Cost\n",
            "0          1       500000          510000\n",
            "1          2       750000          720000\n",
            "2          3      1000000          980000\n",
            "3          4       650000          670000\n",
            "4          5       900000          910000\n",
            "5          6       935000         1000000\n",
            "\n"
          ]
        }
      ]
    },
    {
      "cell_type": "markdown",
      "source": [
        "Table 10: Actual Duration and Prediction Duration for Construction work"
      ],
      "metadata": {
        "id": "xFAkGlIkec2E"
      }
    },
    {
      "cell_type": "code",
      "source": [
        "timeline_data = {'Project ID' : ['1','2','3','4','5','6'],\n",
        "                 'Actual Duration': [12, 18, 24, 14, 10, 17],\n",
        "                 'Predicted Duration': [11, 16, 25, 15, 11, 30]\n",
        "                 }\n",
        "df_timeline = pd.DataFrame(timeline_data)\n",
        "print(\"Table 10: Actual Duration and Prediction Duration for Construction work\")\n",
        "print(df_timeline)\n",
        "print()\n"
      ],
      "metadata": {
        "colab": {
          "base_uri": "https://localhost:8080/"
        },
        "id": "Ef_C8uzCemur",
        "outputId": "8b0ef7e0-91ee-4a48-a9aa-f530e6126ccc"
      },
      "execution_count": 9,
      "outputs": [
        {
          "output_type": "stream",
          "name": "stdout",
          "text": [
            "Table 10: Actual Duration and Prediction Duration for Construction work\n",
            "  Project ID  Actual Duration  Predicted Duration\n",
            "0          1               12                  11\n",
            "1          2               18                  16\n",
            "2          3               24                  25\n",
            "3          4               14                  15\n",
            "4          5               10                  11\n",
            "5          6               17                  30\n",
            "\n"
          ]
        }
      ]
    },
    {
      "cell_type": "markdown",
      "source": [
        "Table 11: Optimization of Construction Cost(Naira)"
      ],
      "metadata": {
        "id": "JQKZrRC1gQH0"
      }
    },
    {
      "cell_type": "code",
      "source": [
        "resource_data = {\n",
        "    'Project ID': ['P1','P2','P3','P4','P5','P6','P7'],\n",
        "    'Labour Cost': [100000, 150000, 200000, 120000, 180000, 175000, 250000],\n",
        "    'Material Cost': [50000, 80000, 100000, 60000, 90000, 120000, 150000],\n",
        "    'Equipment Cost': [30000, 40000, 50000, 35000, 45000, 60000, 70000]\n",
        "    }\n",
        "df_resources = pd.DataFrame(resource_data)\n",
        "print(\"Table 11: Optimization of Construction Cost\")\n",
        "print(df_resources)\n",
        "print()\n"
      ],
      "metadata": {
        "colab": {
          "base_uri": "https://localhost:8080/"
        },
        "id": "83ofT_AggbMv",
        "outputId": "51c83e3f-8106-482e-cf75-56c8bf6ab187"
      },
      "execution_count": 11,
      "outputs": [
        {
          "output_type": "stream",
          "name": "stdout",
          "text": [
            "Table 11: Optimization of Construction Cost\n",
            "  Project ID  Labour Cost  Material Cost  Equipment Cost\n",
            "0         P1       100000          50000           30000\n",
            "1         P2       150000          80000           40000\n",
            "2         P3       200000         100000           50000\n",
            "3         P4       120000          60000           35000\n",
            "4         P5       180000          90000           45000\n",
            "5         P6       175000         120000           60000\n",
            "6         P7       250000         150000           70000\n",
            "\n"
          ]
        }
      ]
    },
    {
      "cell_type": "markdown",
      "source": [
        "Table 12: Actual and Predicted Defection Detection"
      ],
      "metadata": {
        "id": "vi-o1Cl9is00"
      }
    },
    {
      "cell_type": "code",
      "source": [
        "defect_data = {'Project ID': ['1','2','3','4','5','6','7'],\n",
        "               'Actual Defect Count': [5, 8, 3, 6, 4, 8, 10],\n",
        "               'Predicted Defect Count': [3, 7, 4, 5, 2, 9, 11]}\n",
        "df_defect = pd.DataFrame(defect_data)\n",
        "print(\"Table 12: Actual and Predicted Defect Detection\")\n",
        "print(df_defect)\n",
        "print()\n"
      ],
      "metadata": {
        "colab": {
          "base_uri": "https://localhost:8080/"
        },
        "id": "R-mx-nfAi4if",
        "outputId": "65f5e431-f80e-49bc-c865-6e7c634725ac"
      },
      "execution_count": 13,
      "outputs": [
        {
          "output_type": "stream",
          "name": "stdout",
          "text": [
            "Table 12: Actual and Predicted Defect Detection\n",
            "  Project ID  Actual Defect Count  Predicted Defect Count\n",
            "0          1                    5                       3\n",
            "1          2                    8                       7\n",
            "2          3                    3                       4\n",
            "3          4                    6                       5\n",
            "4          5                    4                       2\n",
            "5          6                    8                       9\n",
            "6          7                   10                      11\n",
            "\n"
          ]
        }
      ]
    },
    {
      "cell_type": "markdown",
      "source": [
        "Table 13: Prediction of Safety Incidences"
      ],
      "metadata": {
        "id": "Ptxdzf9Bkmq3"
      }
    },
    {
      "cell_type": "code",
      "source": [
        "safety_data = {'Project ID': ['1','2','3','4','5','6'],\n",
        "               'Actual Safety R': [2, 1, 0, 3, 1, 4],\n",
        "               'Predicted Safety Incident':[1, 2, 0, 4, 1, 7]}\n",
        "df_safety = pd.DataFrame(safety_data)\n",
        "print(\"Table 13: Prediction of Safety Incidences\")\n",
        "print(df_safety)\n",
        "print()\n"
      ],
      "metadata": {
        "colab": {
          "base_uri": "https://localhost:8080/"
        },
        "id": "sCKuJEL_ktOD",
        "outputId": "5885aca6-cd29-41cd-9543-920c3180ac69"
      },
      "execution_count": 14,
      "outputs": [
        {
          "output_type": "stream",
          "name": "stdout",
          "text": [
            "Table 13: Prediction of Safety Incidences\n",
            "  Project ID  Actual Safety Rate  Predicted Safety Incident\n",
            "0          1                   2                          1\n",
            "1          2                   1                          2\n",
            "2          3                   0                          0\n",
            "3          4                   3                          4\n",
            "4          5                   1                          1\n",
            "5          6                   4                          7\n",
            "\n"
          ]
        }
      ]
    },
    {
      "cell_type": "markdown",
      "source": [
        "Table 14: Construction Project Data(Naira)"
      ],
      "metadata": {
        "id": "BlABh0rsreQD"
      }
    },
    {
      "cell_type": "code",
      "source": [
        "construction_project_data = {'Project ID': ['P1','P2','P3','P4','P5','P6','P7'],\n",
        "                     'Project Duration': [120, 90, 150, 180, 250, 300, 350],\n",
        "                     'Labour Cost': [500000, 400000, 600000, 800000, 1000000, 1500000, 2400000],\n",
        "                    'Material Cost': [300000, 250000, 350000, 400000, 600000, 800000, 1000000],\n",
        "                      'AI Adoption Level': [10, 2, 5, 9, 1, 6, 8],\n",
        "                      'Percentage Productivity Improvement': [15, 8, 12, 20, 25, 28, 30]}\n",
        "df_construction_project = pd.DataFrame(construction_project_data)\n",
        "print(\"Table 14: Construction Project Data (Naira)\")\n",
        "print(df_construction_project)\n",
        "print()\n"
      ],
      "metadata": {
        "colab": {
          "base_uri": "https://localhost:8080/"
        },
        "id": "NNmke-2IrwpB",
        "outputId": "61ca6060-3a8c-4421-d570-622442c9052a"
      },
      "execution_count": 17,
      "outputs": [
        {
          "output_type": "stream",
          "name": "stdout",
          "text": [
            "Table 14: Construction Project Data (Naira)\n",
            "  Project ID  Project Duration  Labour Cost  Material Cost  AI Adoption Level  \\\n",
            "0         P1               120       500000         300000                 10   \n",
            "1         P2                90       400000         250000                  2   \n",
            "2         P3               150       600000         350000                  5   \n",
            "3         P4               180       800000         400000                  9   \n",
            "4         P5               250      1000000         600000                  1   \n",
            "5         P6               300      1500000         800000                  6   \n",
            "6         P7               350      2400000        1000000                  8   \n",
            "\n",
            "   Percentage Productivity Improvement  \n",
            "0                                   15  \n",
            "1                                    8  \n",
            "2                                   12  \n",
            "3                                   20  \n",
            "4                                   25  \n",
            "5                                   28  \n",
            "6                                   30  \n",
            "\n"
          ]
        }
      ]
    },
    {
      "cell_type": "markdown",
      "source": [
        "Table 15: AI Implementation"
      ],
      "metadata": {
        "id": "llQ-qc36uzNz"
      }
    },
    {
      "cell_type": "code",
      "source": [
        "implementation = {'Year': ['2020','2021','2022','2022','2023','2023'],\n",
        "'Hours': [200, 300, 150, 250, 180, 140],\n",
        "'Cost Saving' : [100000, 150000, 80000, 120000, 90000, 180000],\n",
        "'Optimum Productivity' : [10, 12, 8, 15, 9, 10]\n",
        "                  }\n",
        "df_implementaion = pd.DataFrame(implementation)\n",
        "print(\"Table 15: AI Implementation\")\n",
        "print(df_implementaion)\n",
        "print()\n"
      ],
      "metadata": {
        "colab": {
          "base_uri": "https://localhost:8080/"
        },
        "id": "aXCdftxBvDrz",
        "outputId": "41464ff5-7bcd-45bd-c318-fe757461d1ca"
      },
      "execution_count": 36,
      "outputs": [
        {
          "output_type": "stream",
          "name": "stdout",
          "text": [
            "Table 15: AI Implementation\n",
            "   Year  Hours  Cost Saving  Optimum Productivity\n",
            "0  2020    200       100000                    10\n",
            "1  2021    300       150000                    12\n",
            "2  2022    150        80000                     8\n",
            "3  2022    250       120000                    15\n",
            "4  2023    180        90000                     9\n",
            "5  2023    140       180000                    10\n",
            "\n"
          ]
        }
      ]
    },
    {
      "cell_type": "markdown",
      "source": [
        "Table 16: Efficiency Cost-Time Savings"
      ],
      "metadata": {
        "id": "eaJ7SXZmyEZB"
      }
    },
    {
      "cell_type": "code",
      "source": [
        "efficiency = {'Project ID': ['P1','P2','P3','P4','P5'],\n",
        "              'Cost Naira': [10000, 30000, 20000, 15000, 12000],\n",
        "              'Time Savings': [10, 14, 15, 13, 12],\n",
        "              'Error Percentage' : [0.5, 0.45, 0.35, 0.3, 0.4],\n",
        "              'Efficiency Percentage': [15, 18, 17, 20, 15]\n",
        "                    }\n",
        "df_efficiency = pd.DataFrame(efficiency)\n",
        "print(\"Table 16: Efficiency Cost-Time Savings\")\n",
        "print(df_efficiency)\n",
        "print()\n"
      ],
      "metadata": {
        "colab": {
          "base_uri": "https://localhost:8080/"
        },
        "id": "FBLcUGhUyUj7",
        "outputId": "1df7fe8d-fb2d-4b37-9a84-743bb365bc50"
      },
      "execution_count": 38,
      "outputs": [
        {
          "output_type": "stream",
          "name": "stdout",
          "text": [
            "Table 16: Efficiency Cost-Time Savings\n",
            "  Project ID  Cost Naira  Time Savings  Error Percentage  \\\n",
            "0         P1       10000            10              0.50   \n",
            "1         P2       30000            14              0.45   \n",
            "2         P3       20000            15              0.35   \n",
            "3         P4       15000            13              0.30   \n",
            "4         P5       12000            12              0.40   \n",
            "\n",
            "   Efficiency Percentage  \n",
            "0                     15  \n",
            "1                     18  \n",
            "2                     17  \n",
            "3                     20  \n",
            "4                     15  \n",
            "\n"
          ]
        }
      ]
    }
  ],
  "metadata": {
    "colab": {
      "provenance": []
    },
    "kernelspec": {
      "display_name": "Python 3",
      "name": "python3"
    }
  },
  "nbformat": 4,
  "nbformat_minor": 0
}