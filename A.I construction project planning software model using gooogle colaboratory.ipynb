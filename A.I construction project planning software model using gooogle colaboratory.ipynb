{
  "cells": [
    {
      "cell_type": "markdown",
      "source": [
        "A.I construction project planning software  model built with google colaboratory"
      ],
      "metadata": {
        "id": "tf6rlSB2RF1R"
      }
    },
    {
      "cell_type": "code",
      "source": [
        "import pandas as pd\n",
        "from sklearn.model_selection import train_test_split\n",
        "from sklearn.ensemble import RandomForestRegressor\n",
        "from sklearn.metrics import mean_squared_error, mean_absolute_error\n",
        "data = pd.DataFrame({'Task': [1, 2, 3, 4, 5, 6],\n",
        "'Description': ['Face Recognition','Computer Vision','Automated Reports','Robotic Automation','AI Assisted Planning','Chatbots'],'Dataset1':[60, 50, 70, 90, 80, 70],\n",
        "           'Complexity': [60, 50, 70, 90, 80, 70],\n",
        "           'Risk': [20, 30, 40, 60, 30, 20],\n",
        "           'Feasibility': [50, 40, 80, 70, 50, 60],\n",
        "           'Productivity': [60, 50, 75, 80, 70, 55]\n",
        "                     })\n"
      ],
      "metadata": {
        "id": "LJVPKmOkSKbn"
      },
      "execution_count": 47,
      "outputs": []
    },
    {
      "cell_type": "code",
      "source": [
        "features = data[['Complexity', 'Risk', 'Feasibility']]"
      ],
      "metadata": {
        "id": "vfRGUU57gzs-"
      },
      "execution_count": 53,
      "outputs": []
    },
    {
      "cell_type": "code",
      "source": [
        "target = data['Productivity']\n",
        "X_train, y_train"
      ],
      "metadata": {
        "id": "iu88LWt_hDZk",
        "outputId": "2144917f-67e4-4d68-bc2a-e64300933a66",
        "colab": {
          "base_uri": "https://localhost:8080/",
          "height": 0
        }
      },
      "execution_count": 59,
      "outputs": [
        {
          "output_type": "execute_result",
          "data": {
            "text/plain": [
              "(                Project  Dataset1  Dataset2  Dataset3  Dataset4\n",
              " 5              Chatbots        70        20        60        55\n",
              " 2     Automated Reports        70        40        80        75\n",
              " 4  AI Assisted Planning        80        30        50        70\n",
              " 3    Robotic Automation        90        60        70        80,\n",
              " 5    Construction\n",
              " 2    Construction\n",
              " 4    Construction\n",
              " 3    Construction\n",
              " Name: Target, dtype: object)"
            ]
          },
          "metadata": {},
          "execution_count": 59
        }
      ]
    },
    {
      "cell_type": "code",
      "source": [
        "X_train, X_test, y_train, y_test = train_test_split(X, y, test_size=0.2, random_state=42)"
      ],
      "metadata": {
        "id": "IzWV2tpBhWzz"
      },
      "execution_count": 33,
      "outputs": []
    },
    {
      "cell_type": "code",
      "source": [
        "model = RandomForestRegressor(n_estimators=100, random_state=42)\n"
      ],
      "metadata": {
        "id": "5nT2LiThiHp8"
      },
      "execution_count": 60,
      "outputs": []
    },
    {
      "cell_type": "code",
      "source": [
        "new_project = pd.DataFrame({'Complexity': [85], 'Risk': [25], 'Feasibility': [70]\n",
        "                            })\n"
      ],
      "metadata": {
        "id": "vn9p0T7zjFUD"
      },
      "execution_count": 71,
      "outputs": []
    }
  ],
  "metadata": {
    "colab": {
      "name": "Welcome To Colaboratory",
      "provenance": []
    },
    "kernelspec": {
      "display_name": "Python 3",
      "name": "python3"
    }
  },
  "nbformat": 4,
  "nbformat_minor": 0
}