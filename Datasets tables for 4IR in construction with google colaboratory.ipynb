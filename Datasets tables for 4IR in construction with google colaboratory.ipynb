{
  "cells": [
    {
      "attachments": {},
      "cell_type": "markdown",
      "metadata": {
        "id": "lx8uX7QXcuYd"
      },
      "source": [
        "Table 1: Project Cost Estimation"
      ]
    },
    {
      "cell_type": "code",
      "execution_count": 15,
      "metadata": {
        "colab": {
          "base_uri": "https://localhost:8080/",
          "height": 0
        },
        "id": "fPCJgbMvc8wT",
        "outputId": "ef87cf07-a311-4399-ac10-e9b7aad729a1"
      },
      "outputs": [
        {
          "name": "stdout",
          "output_type": "stream",
          "text": [
            "Table 1: Project Cost Estimation\n",
            "  ProjectID  EstimatedCost\n",
            "0        P1         100000\n",
            "1        P2         150000\n",
            "2        P3         200000\n",
            "3        P4         250000\n",
            "4        P5         300000\n",
            "5        P6         350000\n",
            "\n"
          ]
        }
      ],
      "source": [
        "import pandas as pd\n",
        "project_cost_data = {'ProjectID': ['P1','P2','P3','P4','P5','P6'],\n",
        "                     'EstimatedCost': [100000, 150000, 200000, 250000, 300000, 350000]\n",
        "                     }\n",
        "df_project_cost = pd.DataFrame(project_cost_data)\n",
        "print(\"Table 1: Project Cost Estimation\")\n",
        "print(df_project_cost)\n",
        "print()\n",
        "\n",
        "\n"
      ]
    },
    {
      "attachments": {},
      "cell_type": "markdown",
      "metadata": {
        "id": "xFAkGlIkec2E"
      },
      "source": [
        "Table 2: Construction Timeline Prediction"
      ]
    },
    {
      "cell_type": "code",
      "execution_count": 16,
      "metadata": {
        "colab": {
          "base_uri": "https://localhost:8080/",
          "height": 0
        },
        "id": "Ef_C8uzCemur",
        "outputId": "fabe826b-d57a-46f8-892b-b8386ecfb838"
      },
      "outputs": [
        {
          "name": "stdout",
          "output_type": "stream",
          "text": [
            "Table 2: Construction Timeline Prediction\n",
            "  ProjectID  EstimatedDuration\n",
            "0        P1                 12\n",
            "1        P2                 18\n",
            "2        P3                 24\n",
            "3        P4                 28\n",
            "4        P5                 32\n",
            "5        P6                 36\n",
            "\n"
          ]
        }
      ],
      "source": [
        "timeline_data = {'ProjectID' : ['P1','P2','P3','P4','P5','P6'],\n",
        "                 'EstimatedDuration': [12, 18, 24, 28, 32, 36]\n",
        "                 }\n",
        "df_timeline = pd.DataFrame(timeline_data)\n",
        "print(\"Table 2: Construction Timeline Prediction\")\n",
        "print(df_timeline)\n",
        "print()\n"
      ]
    },
    {
      "attachments": {},
      "cell_type": "markdown",
      "metadata": {
        "id": "JQKZrRC1gQH0"
      },
      "source": [
        "Table 3: Resource Allocation Optimization"
      ]
    },
    {
      "cell_type": "code",
      "execution_count": 17,
      "metadata": {
        "colab": {
          "base_uri": "https://localhost:8080/",
          "height": 0
        },
        "id": "83ofT_AggbMv",
        "outputId": "bd11e0e0-f0ff-485b-87b0-35d71eb76de0"
      },
      "outputs": [
        {
          "name": "stdout",
          "output_type": "stream",
          "text": [
            "Table 3: Resource Allocation Optimization\n",
            "  ProjectID  ResourceCount\n",
            "0        P1             50\n",
            "1        P2             75\n",
            "2        P3            100\n",
            "3        P4            125\n",
            "4        P5            150\n",
            "5        P6            175\n",
            "6        P7            200\n",
            "\n"
          ]
        }
      ],
      "source": [
        "resource_data = {\n",
        "    'ProjectID': ['P1','P2','P3','P4','P5','P6','P7'],\n",
        "    'ResourceCount': [50, 75, 100, 125, 150, 175, 200]\n",
        "    }\n",
        "df_resources = pd.DataFrame(resource_data)\n",
        "print(\"Table 3: Resource Allocation Optimization\")\n",
        "print(df_resources)\n",
        "print()\n"
      ]
    },
    {
      "attachments": {},
      "cell_type": "markdown",
      "metadata": {
        "id": "vi-o1Cl9is00"
      },
      "source": [
        "Table 4: Defection Dectection"
      ]
    },
    {
      "cell_type": "code",
      "execution_count": 14,
      "metadata": {
        "colab": {
          "base_uri": "https://localhost:8080/",
          "height": 0
        },
        "id": "R-mx-nfAi4if",
        "outputId": "08899447-e74d-4596-e387-82869a85bbb5"
      },
      "outputs": [
        {
          "name": "stdout",
          "output_type": "stream",
          "text": [
            "Table 4: Defect Detection\n",
            "  ProjectID  DefectCount\n",
            "0        P1            5\n",
            "1        P2           10\n",
            "2        P3            3\n",
            "3        P4            6\n",
            "4        P5            9\n",
            "5        P6            7\n",
            "6        P7           11\n",
            "\n"
          ]
        }
      ],
      "source": [
        "defect_data = {'ProjectID': ['P1','P2','P3','P4','P5','P6','P7'],\n",
        "               'DefectCount': [5, 10, 3, 6, 9, 7, 11]}\n",
        "df_defect = pd.DataFrame(defect_data)\n",
        "print(\"Table 4: Defect Detection\")\n",
        "print(df_defect)\n",
        "print()\n"
      ]
    },
    {
      "attachments": {},
      "cell_type": "markdown",
      "metadata": {
        "id": "Ptxdzf9Bkmq3"
      },
      "source": [
        "Table 5: Safety Incident Prediction"
      ]
    },
    {
      "cell_type": "code",
      "execution_count": 18,
      "metadata": {
        "colab": {
          "base_uri": "https://localhost:8080/",
          "height": 0
        },
        "id": "sCKuJEL_ktOD",
        "outputId": "18d2fca9-3f8c-4ff8-f14b-1f1d6b2f449a"
      },
      "outputs": [
        {
          "name": "stdout",
          "output_type": "stream",
          "text": [
            "Table 5: Safety Incident Prediction\n",
            "  ProjectID  IncidentRate\n",
            "0        P1          0.10\n",
            "1        P2          0.05\n",
            "2        P3          0.20\n",
            "3        P4          0.09\n",
            "4        P5          0.40\n",
            "5        P6          0.12\n",
            "\n"
          ]
        }
      ],
      "source": [
        "safety_data = {'ProjectID': ['P1','P2','P3','P4','P5','P6'],\n",
        "               'IncidentRate': [0.1, 0.05, 0.2, 0.09, 0.4, 0.12]}\n",
        "df_safety = pd.DataFrame(safety_data)\n",
        "print(\"Table 5: Safety Incident Prediction\")\n",
        "print(df_safety)\n",
        "print()\n"
      ]
    },
    {
      "attachments": {},
      "cell_type": "markdown",
      "metadata": {
        "id": "BlABh0rsreQD"
      },
      "source": [
        "Table 6: Cost-Benefit Analysis"
      ]
    },
    {
      "cell_type": "code",
      "execution_count": 21,
      "metadata": {
        "colab": {
          "base_uri": "https://localhost:8080/",
          "height": 0
        },
        "id": "NNmke-2IrwpB",
        "outputId": "563f4db7-f09b-49b0-a86b-94ed0f6cd5d7"
      },
      "outputs": [
        {
          "name": "stdout",
          "output_type": "stream",
          "text": [
            "Table 6: Cost-Benefit Analysis\n",
            "  ProjectID  Benefit    Cost\n",
            "0        P1    50000   75000\n",
            "1        P2   100000   90000\n",
            "2        P3   150000  120000\n",
            "3        P4   200000  150000\n",
            "4        P5   250000  180000\n",
            "5        P6   300000  210000\n",
            "6        P7   350000  240000\n",
            "\n"
          ]
        }
      ],
      "source": [
        "cost_benefit_data = {'ProjectID': ['P1','P2','P3','P4','P5','P6','P7'],\n",
        "                     'Benefit': [50000, 100000, 150000, 200000, 250000, 300000, 350000],\n",
        "                     'Cost': [75000, 90000, 120000, 150000, 180000, 210000, 240000]}\n",
        "df_cost_benefit = pd.DataFrame(cost_benefit_data)\n",
        "print(\"Table 6: Cost-Benefit Analysis\")\n",
        "print(df_cost_benefit)\n",
        "print()\n"
      ]
    },
    {
      "attachments": {},
      "cell_type": "markdown",
      "metadata": {
        "id": "llQ-qc36uzNz"
      },
      "source": [
        "Table 7: Labour Productivity Camparison"
      ]
    },
    {
      "cell_type": "code",
      "execution_count": 23,
      "metadata": {
        "colab": {
          "base_uri": "https://localhost:8080/",
          "height": 0
        },
        "id": "aXCdftxBvDrz",
        "outputId": "c75c8ba1-9c28-42e6-b091-40d8722f2ccb"
      },
      "outputs": [
        {
          "name": "stdout",
          "output_type": "stream",
          "text": [
            "Table 7: Labour Productivity Comparism\n",
            "  ProjectID  LabourProductivity\n",
            "0        P1                  80\n",
            "1        P2                  90\n",
            "2        P3                  70\n",
            "3        P4                 100\n",
            "4        P5                 120\n",
            "5        P6                 140\n",
            "\n"
          ]
        }
      ],
      "source": [
        "labour_productivity_data = {'ProjectID': ['P1','P2','P3','P4','P5','P6'],\n",
        "'LabourProductivity': [80, 90, 70, 100, 120, 140]}\n",
        "df_labour_productivity = pd.DataFrame(labour_productivity_data)\n",
        "print(\"Table 7: Labour Productivity Comparism\")\n",
        "print(df_labour_productivity)\n",
        "print()\n"
      ]
    },
    {
      "attachments": {},
      "cell_type": "markdown",
      "metadata": {
        "id": "eaJ7SXZmyEZB"
      },
      "source": [
        "Table 8: Safety Incident Rate"
      ]
    },
    {
      "cell_type": "code",
      "execution_count": 26,
      "metadata": {
        "colab": {
          "base_uri": "https://localhost:8080/",
          "height": 0
        },
        "id": "FBLcUGhUyUj7",
        "outputId": "2e6712df-f267-4c6e-8497-a467bb10ced6"
      },
      "outputs": [
        {
          "name": "stdout",
          "output_type": "stream",
          "text": [
            "Table 12: Safety Incident Rate\n",
            "  ProjectID  IncidentRate\n",
            "0        P1          0.05\n",
            "1        P2          0.03\n",
            "2        P3          0.08\n",
            "3        P4          0.02\n",
            "4        P5          0.07\n",
            "\n"
          ]
        }
      ],
      "source": [
        "safety_rate_data = {'ProjectID': ['P1','P2','P3','P4','P5'],\n",
        "                    'IncidentRate': [0.05, 0.03, 0.08, 0.02, 0.07]\n",
        "                    }\n",
        "df_safety_rate = pd.DataFrame(safety_rate_data)\n",
        "print(\"Table 12: Safety Incident Rate\")\n",
        "print(df_safety_rate)\n",
        "print()\n"
      ]
    },
    {
      "cell_type": "code",
      "execution_count": null,
      "metadata": {},
      "outputs": [],
      "source": [
        "import pandas as pd\n",
        "\n",
        "# Define the project data\n",
        "project_data = {\n",
        "    'Project ID': [1, 2, 3, 4, 5],\n",
        "    'AI Adoption Level': ['High', 'Medium', 'Low', 'High', 'Medium'],\n",
        "    'Labor Efficiency': [15, 8, 3, 12, 6],\n",
        "    'Cost Reduction (%)': [10, 5, 2, 8, 4],\n",
        "    'Schedule Improvement (%)': [20, 10, 5, 15, 8]\n",
        "}"
      ]
    }
  ],
  "metadata": {
    "colab": {
      "name": "Welcome To Colaboratory",
      "provenance": []
    },
    "kernelspec": {
      "display_name": "Python 3",
      "name": "python3"
    }
  },
  "nbformat": 4,
  "nbformat_minor": 0
}
